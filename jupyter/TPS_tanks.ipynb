{
 "cells": [
  {
   "cell_type": "code",
   "execution_count": 29,
   "metadata": {
    "collapsed": true
   },
   "outputs": [],
   "source": [
    "from sympy import *\n",
    "import numpy as np"
   ]
  },
  {
   "cell_type": "code",
   "execution_count": 30,
   "metadata": {
    "collapsed": true
   },
   "outputs": [],
   "source": [
    "def m_to_in(arg):\n",
    "    return arg*39.3701\n",
    "\n",
    "def in_to_m(arg):\n",
    "    return arg/39.3701"
   ]
  },
  {
   "cell_type": "markdown",
   "metadata": {},
   "source": [
    "### Inputs:"
   ]
  },
  {
   "cell_type": "code",
   "execution_count": 37,
   "metadata": {
    "collapsed": true
   },
   "outputs": [],
   "source": [
    "P_tanks = 1.379e+6 #  Pressure in tanks, Pascals (200 PSI)\n",
    "# Pressure_Tanks = 101325*2; # Pascals (2ATM)\n",
    "D_tanks = in_to_m(10) # Diameter of tanks, meters (12 inches)\n",
    "T_cryo = 90.15  # Kevlin *CHANGE ME* ACCORDING TO WHICH CRYOGRENIC FUEL YOU WANT TO EXAMINE\n",
    "T3 = 270 # Kelvin * CHANGE ME* ACCORDING TO VEHICLE SIZING"
   ]
  },
  {
   "cell_type": "markdown",
   "metadata": {},
   "source": [
    "### Constants:"
   ]
  },
  {
   "cell_type": "code",
   "execution_count": 38,
   "metadata": {
    "collapsed": true
   },
   "outputs": [],
   "source": [
    "simgay_al = 324e+6  # Tensile_Strength_Yield_Al_6061T, Pascals (4700 PSI) @ 77.15 K -196 Celsius\n",
    "# Tensile Chosen because structure will be in tension. \n",
    "# http://www.matweb.com/search/datasheet_print.aspx?matguid=1b8c06d0ca7c456694c7777d9e10be5b\n",
    "K_CFRP = 7.0  # CFRP Thermal Conductivity, Watts/Meter Kelvin\n",
    "K_PU = 0.025  # Polyurethane_Thermal_Conductivity, Watts/Meter Kelvin\n",
    "T_ambient = 299.15  # Kelvin\n",
    "H = 35  # Convective Heat Transfer Coefficient, Watts/SQR Meter Kelvin\n",
    "\n",
    "FS = 1.5  # Safety Factor"
   ]
  },
  {
   "cell_type": "markdown",
   "metadata": {},
   "source": [
    "### Calculations:"
   ]
  },
  {
   "cell_type": "code",
   "execution_count": 40,
   "metadata": {
    "collapsed": false
   },
   "outputs": [
    {
     "name": "stdout",
     "output_type": "stream",
     "text": [
      "Thickness Aluminum: 0.250000135 in\n",
      "Radius3: 5.54581854038781 in\n",
      "Thickness of Polyurethane: 0.170818337887813 in\n"
     ]
    }
   ],
   "source": [
    "R1 = D_tanks /2\n",
    "t = Symbol('t')\n",
    "R = Symbol('R')\n",
    "\n",
    "t_al = solve((P_tanks*D_tanks)/(4*t) - simgay_al, t)  # thickness of aluminum, meters \n",
    "t_al = float(t_al[0])  # convert to floating point number\n",
    "\n",
    "t_al = 0.00635\n",
    "\n",
    "R2 = R1 + 1.5 * t_al  # Meters\n",
    "T2 = T_cryo   # Kelvin Assumption: WORST CASE\n",
    "L = 1.0\n",
    "\n",
    "R_soln = solve(2*np.pi*R*L*H*(T_ambient-T3) - ((2*pi*L)*K_PU*(T3-T2)/log(R/R2)), R)\n",
    "\n",
    "print('Thickness Aluminum:', m_to_in(t_al), 'in')\n",
    "print('Radius3:', m_to_in(R_soln[0]), 'in')\n",
    "print('Thickness of Polyurethane:', m_to_in(R_soln[0]-R2), 'in')"
   ]
  },
  {
   "cell_type": "code",
   "execution_count": null,
   "metadata": {
    "collapsed": true
   },
   "outputs": [],
   "source": []
  },
  {
   "cell_type": "code",
   "execution_count": null,
   "metadata": {
    "collapsed": true
   },
   "outputs": [],
   "source": []
  }
 ],
 "metadata": {
  "kernelspec": {
   "display_name": "Python 3",
   "language": "python",
   "name": "python3"
  },
  "language_info": {
   "codemirror_mode": {
    "name": "ipython",
    "version": 3
   },
   "file_extension": ".py",
   "mimetype": "text/x-python",
   "name": "python",
   "nbconvert_exporter": "python",
   "pygments_lexer": "ipython3",
   "version": "3.6.0"
  }
 },
 "nbformat": 4,
 "nbformat_minor": 2
}
